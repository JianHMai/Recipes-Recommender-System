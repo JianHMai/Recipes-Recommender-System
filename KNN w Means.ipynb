{
 "cells": [
  {
   "cell_type": "code",
   "execution_count": 23,
   "id": "aa54ad5c",
   "metadata": {},
   "outputs": [],
   "source": [
    "import pandas as pd\n",
    "from surprise.model_selection import train_test_split, GridSearchCV, cross_validate\n",
    "from surprise import Reader, Dataset, KNNWithMeans, accuracy\n",
    "import time"
   ]
  },
  {
   "cell_type": "markdown",
   "id": "9453cc0c",
   "metadata": {},
   "source": [
    "## Interactions 100% of Dataset"
   ]
  },
  {
   "cell_type": "code",
   "execution_count": 58,
   "id": "1de9c8b5",
   "metadata": {},
   "outputs": [],
   "source": [
    "df = pd.read_csv(\"interactions_100.csv\")\n",
    "reader = Reader(rating_scale=(0,5))\n",
    "data = Dataset.load_from_df(df[['u', 'i', 'rating']], reader)\n",
    "trainset, testset = train_test_split(data, test_size=.25)"
   ]
  },
  {
   "cell_type": "code",
   "execution_count": 61,
   "id": "a4e510e2",
   "metadata": {},
   "outputs": [
    {
     "name": "stdout",
     "output_type": "stream",
     "text": [
      "Estimating biases using sgd...\n",
      "Computing the pearson_baseline similarity matrix...\n",
      "Done computing similarity matrix.\n",
      "Elapsed time (in seconds):  21.231253147125244\n",
      "RMSE: 1.0041\n",
      "1.004117554901805\n"
     ]
    }
   ],
   "source": [
    "sim = {'name':'pearson_baseline', 'user_based': True}\n",
    "bsl = {'method': 'sgd', 'n_epochs': 60}\n",
    "knn = KNNWithMeans(k = 50, sim_options = sim, bsl_options = bsl, verbose = True)\n",
    "\n",
    "start = time.time()\n",
    "\n",
    "knn.fit(trainset)\n",
    "\n",
    "end = time.time()\n",
    "elapsed_seconds = end-start\n",
    "print(\"Elapsed time (in seconds): \", elapsed_seconds)\n",
    "\n",
    "predictions = knn.test(testset)\n",
    "print(accuracy.rmse(predictions))"
   ]
  },
  {
   "cell_type": "code",
   "execution_count": 62,
   "id": "e12261f9",
   "metadata": {},
   "outputs": [
    {
     "data": {
      "text/plain": [
       "Prediction(uid='11', iid='2166', r_ui=None, est=4.564448832927481, details={'was_impossible': True, 'reason': 'User and/or item is unknown.'})"
      ]
     },
     "execution_count": 62,
     "metadata": {},
     "output_type": "execute_result"
    }
   ],
   "source": [
    "knn.predict(uid = '11', iid = '2166')"
   ]
  },
  {
   "cell_type": "markdown",
   "id": "4fd0e752",
   "metadata": {},
   "source": [
    "## Interactions 50% of Dataset"
   ]
  },
  {
   "cell_type": "code",
   "execution_count": 46,
   "id": "08020de1",
   "metadata": {},
   "outputs": [],
   "source": [
    "df = pd.read_csv(\"interactions_50.csv\")\n",
    "reader = Reader(rating_scale=(0,5))\n",
    "data = Dataset.load_from_df(df[['u', 'i', 'rating']], reader)\n",
    "trainset, testset = train_test_split(data, test_size=.25)"
   ]
  },
  {
   "cell_type": "code",
   "execution_count": 54,
   "id": "c359fab3",
   "metadata": {},
   "outputs": [
    {
     "name": "stdout",
     "output_type": "stream",
     "text": [
      "Estimating biases using sgd...\n",
      "Computing the pearson_baseline similarity matrix...\n",
      "Done computing similarity matrix.\n",
      "Elapsed time (in seconds):  10.731573104858398\n",
      "RMSE: 1.0007\n",
      "1.0006865395207607\n"
     ]
    }
   ],
   "source": [
    "sim = {'name':'pearson_baseline', 'user_based': True}\n",
    "bsl = {'method': 'sgd', 'n_epochs': 30}\n",
    "knn2 = KNNWithMeans(k = 50, sim_options = sim, bsl_options = bsl, verbose = True)\n",
    "\n",
    "start = time.time()\n",
    "\n",
    "knn2.fit(trainset)\n",
    "\n",
    "end = time.time()\n",
    "elapsed_seconds = end-start\n",
    "print(\"Elapsed time (in seconds): \", elapsed_seconds)\n",
    "\n",
    "predictions2 = knn2.test(testset)\n",
    "print(accuracy.rmse(predictions2))"
   ]
  },
  {
   "cell_type": "code",
   "execution_count": 63,
   "id": "26e047eb",
   "metadata": {},
   "outputs": [
    {
     "data": {
      "text/plain": [
       "Prediction(uid='11', iid='2166', r_ui=None, est=4.564356031359506, details={'was_impossible': True, 'reason': 'User and/or item is unknown.'})"
      ]
     },
     "execution_count": 63,
     "metadata": {},
     "output_type": "execute_result"
    }
   ],
   "source": [
    "knn2.predict(uid = '11', iid = '2166')"
   ]
  },
  {
   "cell_type": "markdown",
   "id": "92b7247d",
   "metadata": {},
   "source": [
    "## Interactions 25% of Dataset"
   ]
  },
  {
   "cell_type": "code",
   "execution_count": 77,
   "id": "c9da1b85",
   "metadata": {},
   "outputs": [],
   "source": [
    "df = pd.read_csv(\"interactions_25.csv\")\n",
    "reader = Reader(rating_scale=(0,5))\n",
    "data = Dataset.load_from_df(df[['u', 'i', 'rating']], reader)\n",
    "trainset, testset = train_test_split(data, test_size=.25)"
   ]
  },
  {
   "cell_type": "code",
   "execution_count": 78,
   "id": "c4217252",
   "metadata": {},
   "outputs": [
    {
     "name": "stdout",
     "output_type": "stream",
     "text": [
      "Estimating biases using sgd...\n",
      "Computing the pearson_baseline similarity matrix...\n",
      "Done computing similarity matrix.\n",
      "Elapsed time (in seconds):  6.095274209976196\n",
      "RMSE: 1.0047\n",
      "1.0047300527630922\n"
     ]
    }
   ],
   "source": [
    "sim = {'name':'pearson_baseline', 'user_based': True}\n",
    "bsl = {'method': 'sgd', 'n_epochs': 20}\n",
    "knn3 = KNNWithMeans(k = 40, sim_options = sim, bsl_options = bsl, verbose = True)\n",
    "\n",
    "start = time.time()\n",
    "\n",
    "knn3.fit(trainset)\n",
    "\n",
    "end = time.time()\n",
    "elapsed_seconds = end-start\n",
    "print(\"Elapsed time (in seconds): \", elapsed_seconds)\n",
    "\n",
    "predictions3 = knn3.test(testset)\n",
    "print(accuracy.rmse(predictions3))"
   ]
  },
  {
   "cell_type": "code",
   "execution_count": 79,
   "id": "c5175835",
   "metadata": {},
   "outputs": [
    {
     "data": {
      "text/plain": [
       "Prediction(uid='11', iid='2166', r_ui=None, est=4.5610188869751145, details={'was_impossible': True, 'reason': 'User and/or item is unknown.'})"
      ]
     },
     "execution_count": 79,
     "metadata": {},
     "output_type": "execute_result"
    }
   ],
   "source": [
    "knn3.predict(uid = '11', iid = '2166')"
   ]
  }
 ],
 "metadata": {
  "kernelspec": {
   "display_name": "Python 3 (ipykernel)",
   "language": "python",
   "name": "python3"
  },
  "language_info": {
   "codemirror_mode": {
    "name": "ipython",
    "version": 3
   },
   "file_extension": ".py",
   "mimetype": "text/x-python",
   "name": "python",
   "nbconvert_exporter": "python",
   "pygments_lexer": "ipython3",
   "version": "3.9.7"
  }
 },
 "nbformat": 4,
 "nbformat_minor": 5
}
