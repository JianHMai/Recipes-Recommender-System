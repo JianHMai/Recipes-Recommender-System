{
 "cells": [
  {
   "cell_type": "code",
   "execution_count": 7,
   "id": "319032b5",
   "metadata": {},
   "outputs": [],
   "source": [
    "import pandas as pd\n",
    "from surprise.model_selection import train_test_split, GridSearchCV, cross_validate\n",
    "from surprise import Reader, Dataset, SVD, accuracy\n",
    "import time"
   ]
  },
  {
   "cell_type": "markdown",
   "id": "7eb342cf",
   "metadata": {},
   "source": [
    "## Interactions 100% of Dataset"
   ]
  },
  {
   "cell_type": "code",
   "execution_count": 13,
   "id": "145e7348",
   "metadata": {},
   "outputs": [],
   "source": [
    "df = pd.read_csv(\"interactions_100.csv\")\n",
    "reader = Reader(rating_scale=(0,5))\n",
    "data = Dataset.load_from_df(df[['u', 'i', 'rating']], reader)\n",
    "trainset, testset = train_test_split(data, test_size=.25)"
   ]
  },
  {
   "cell_type": "code",
   "execution_count": 14,
   "id": "90c58ab3",
   "metadata": {},
   "outputs": [
    {
     "name": "stderr",
     "output_type": "stream",
     "text": [
      "[Parallel(n_jobs=-1)]: Using backend LokyBackend with 20 concurrent workers.\n",
      "[Parallel(n_jobs=-1)]: Done  32 tasks      | elapsed:   21.9s\n",
      "[Parallel(n_jobs=-1)]: Done 122 tasks      | elapsed:  1.3min\n",
      "[Parallel(n_jobs=-1)]: Done 248 tasks      | elapsed:  3.4min\n",
      "[Parallel(n_jobs=-1)]: Done 410 tasks      | elapsed:  5.4min\n",
      "[Parallel(n_jobs=-1)]: Done 608 tasks      | elapsed:  9.4min\n",
      "[Parallel(n_jobs=-1)]: Done 842 tasks      | elapsed: 14.9min\n",
      "[Parallel(n_jobs=-1)]: Done 1112 tasks      | elapsed: 22.6min\n",
      "[Parallel(n_jobs=-1)]: Done 1418 tasks      | elapsed: 33.2min\n"
     ]
    },
    {
     "name": "stdout",
     "output_type": "stream",
     "text": [
      "Elapsed time (in seconds):  2293.113224506378\n",
      "RMSE:  0.9234952787288172\n",
      "Best Paramas:  {'n_factors': 10, 'n_epochs': 20, 'lr_all': 0.005, 'reg_all': 0.1}\n"
     ]
    },
    {
     "name": "stderr",
     "output_type": "stream",
     "text": [
      "[Parallel(n_jobs=-1)]: Done 1500 out of 1500 | elapsed: 38.1min finished\n"
     ]
    }
   ],
   "source": [
    "param_grid = {'n_factors': [10,25,75,100, 125], 'n_epochs': [5,10,20,30], \n",
    "              'lr_all': [0.005, 0.1, 0.01],'reg_all': [0,0.02,0.05,0.10,0.20]}\n",
    "gs = GridSearchCV(SVD, param_grid, measures=['rmse'], cv = 5, n_jobs = -1, joblib_verbose=5)\n",
    "start = time.time()\n",
    "\n",
    "gs.fit(data)\n",
    "\n",
    "end = time.time()\n",
    "elapsed_seconds = (end-start)\n",
    "print(\"Elapsed time (in seconds): \", elapsed_seconds)\n",
    "\n",
    "print(\"RMSE: \" , gs.best_score['rmse'])\n",
    "print(\"Best Paramas: \" , gs.best_params['rmse'])"
   ]
  },
  {
   "cell_type": "code",
   "execution_count": 15,
   "id": "e9b9db34",
   "metadata": {},
   "outputs": [
    {
     "name": "stdout",
     "output_type": "stream",
     "text": [
      "Elapsed time (in seconds):  7.724573135375977\n",
      "RMSE: 0.9280\n",
      "0.9280104928710219\n"
     ]
    }
   ],
   "source": [
    "svd = SVD(n_factors=10, n_epochs=20, lr_all=0.005, reg_all=0.1)\n",
    "\n",
    "start = time.time()\n",
    "\n",
    "svd.fit(trainset)\n",
    "\n",
    "end = time.time()\n",
    "elapsed_seconds = (end-start)\n",
    "print(\"Elapsed time (in seconds): \", elapsed_seconds)\n",
    "\n",
    "predictions = svd.test(testset)\n",
    "print(accuracy.rmse(predictions))"
   ]
  },
  {
   "cell_type": "code",
   "execution_count": 16,
   "id": "a410426d",
   "metadata": {},
   "outputs": [
    {
     "data": {
      "text/plain": [
       "Prediction(uid='11', iid='2166', r_ui=None, est=4.564623299875275, details={'was_impossible': False})"
      ]
     },
     "execution_count": 16,
     "metadata": {},
     "output_type": "execute_result"
    }
   ],
   "source": [
    "svd.predict(uid = '11', iid = '2166')"
   ]
  },
  {
   "cell_type": "markdown",
   "id": "80047068",
   "metadata": {},
   "source": [
    "## Interactions 50% of Dataset"
   ]
  },
  {
   "cell_type": "code",
   "execution_count": 8,
   "id": "ca1fa49c",
   "metadata": {},
   "outputs": [],
   "source": [
    "df = pd.read_csv(\"interactions_50.csv\")\n",
    "reader = Reader(rating_scale=(0,5))\n",
    "data = Dataset.load_from_df(df[['u', 'i', 'rating']], reader)\n",
    "trainset, testset = train_test_split(data, test_size=.25)"
   ]
  },
  {
   "cell_type": "code",
   "execution_count": 9,
   "id": "c4e34c8a",
   "metadata": {},
   "outputs": [
    {
     "name": "stderr",
     "output_type": "stream",
     "text": [
      "[Parallel(n_jobs=-1)]: Using backend LokyBackend with 20 concurrent workers.\n",
      "[Parallel(n_jobs=-1)]: Done  32 tasks      | elapsed:   11.4s\n",
      "[Parallel(n_jobs=-1)]: Done 122 tasks      | elapsed:   40.3s\n",
      "[Parallel(n_jobs=-1)]: Done 248 tasks      | elapsed:  1.7min\n",
      "[Parallel(n_jobs=-1)]: Done 410 tasks      | elapsed:  2.7min\n",
      "[Parallel(n_jobs=-1)]: Done 608 tasks      | elapsed:  4.8min\n",
      "[Parallel(n_jobs=-1)]: Done 842 tasks      | elapsed:  7.6min\n",
      "[Parallel(n_jobs=-1)]: Done 1112 tasks      | elapsed: 11.5min\n",
      "[Parallel(n_jobs=-1)]: Done 1418 tasks      | elapsed: 16.9min\n"
     ]
    },
    {
     "name": "stdout",
     "output_type": "stream",
     "text": [
      "Elapsed time (in seconds):  1159.3083155155182\n",
      "RMSE:  0.9303938914505544\n",
      "Best Paramas:  {'n_factors': 10, 'n_epochs': 20, 'lr_all': 0.005, 'reg_all': 0.2}\n"
     ]
    },
    {
     "name": "stderr",
     "output_type": "stream",
     "text": [
      "[Parallel(n_jobs=-1)]: Done 1500 out of 1500 | elapsed: 19.3min finished\n"
     ]
    }
   ],
   "source": [
    "param_grid = {'n_factors': [10,25,75,100, 125], 'n_epochs': [5,10,20,30], \n",
    "              'lr_all': [0.005, 0.1, 0.01],'reg_all': [0,0.02,0.05,0.10,0.20]}\n",
    "gs2 = GridSearchCV(SVD, param_grid, measures=['rmse'], cv = 5, n_jobs = -1, joblib_verbose=5)\n",
    "start = time.time()\n",
    "\n",
    "gs2.fit(data)\n",
    "\n",
    "end = time.time()\n",
    "elapsed_seconds = (end-start)\n",
    "print(\"Elapsed time (in seconds): \", elapsed_seconds)\n",
    "\n",
    "print(\"RMSE: \" , gs2.best_score['rmse'])\n",
    "print(\"Best Paramas: \" , gs2.best_params['rmse'])"
   ]
  },
  {
   "cell_type": "code",
   "execution_count": 11,
   "id": "d6741e4a",
   "metadata": {},
   "outputs": [
    {
     "name": "stdout",
     "output_type": "stream",
     "text": [
      "Elapsed time (in seconds):  3.815241813659668\n",
      "RMSE: 0.9343\n",
      "0.9342573763683432\n"
     ]
    }
   ],
   "source": [
    "svd2 = SVD(n_factors=10, n_epochs=20, lr_all=0.005, reg_all=0.2)\n",
    "\n",
    "start = time.time()\n",
    "\n",
    "svd2.fit(trainset)\n",
    "\n",
    "end = time.time()\n",
    "elapsed_seconds = (end-start)\n",
    "print(\"Elapsed time (in seconds): \", elapsed_seconds)\n",
    "\n",
    "predictions2 = svd2.test(testset)\n",
    "print(accuracy.rmse(predictions2))"
   ]
  },
  {
   "cell_type": "code",
   "execution_count": 12,
   "id": "c07d92a0",
   "metadata": {},
   "outputs": [
    {
     "data": {
      "text/plain": [
       "Prediction(uid='11', iid='2166', r_ui=None, est=4.566059868147533, details={'was_impossible': False})"
      ]
     },
     "execution_count": 12,
     "metadata": {},
     "output_type": "execute_result"
    }
   ],
   "source": [
    "svd2.predict(uid = '11', iid = '2166')"
   ]
  },
  {
   "cell_type": "markdown",
   "id": "45d03394",
   "metadata": {},
   "source": [
    "## Interactions 25% of Dataset"
   ]
  },
  {
   "cell_type": "code",
   "execution_count": 17,
   "id": "7b8750aa",
   "metadata": {},
   "outputs": [],
   "source": [
    "df = pd.read_csv(\"interactions_25.csv\")\n",
    "reader = Reader(rating_scale=(0,5))\n",
    "data = Dataset.load_from_df(df[['u', 'i', 'rating']], reader)\n",
    "trainset, testset = train_test_split(data, test_size=.25)"
   ]
  },
  {
   "cell_type": "code",
   "execution_count": 18,
   "id": "2aa0865a",
   "metadata": {},
   "outputs": [
    {
     "name": "stderr",
     "output_type": "stream",
     "text": [
      "[Parallel(n_jobs=-1)]: Using backend LokyBackend with 20 concurrent workers.\n",
      "[Parallel(n_jobs=-1)]: Done  32 tasks      | elapsed:    5.0s\n",
      "[Parallel(n_jobs=-1)]: Done 122 tasks      | elapsed:   18.6s\n",
      "[Parallel(n_jobs=-1)]: Done 248 tasks      | elapsed:   47.2s\n",
      "[Parallel(n_jobs=-1)]: Done 410 tasks      | elapsed:  1.3min\n",
      "[Parallel(n_jobs=-1)]: Done 608 tasks      | elapsed:  2.3min\n",
      "[Parallel(n_jobs=-1)]: Done 842 tasks      | elapsed:  3.7min\n",
      "[Parallel(n_jobs=-1)]: Done 1112 tasks      | elapsed:  5.6min\n",
      "[Parallel(n_jobs=-1)]: Done 1418 tasks      | elapsed:  8.2min\n"
     ]
    },
    {
     "name": "stdout",
     "output_type": "stream",
     "text": [
      "Elapsed time (in seconds):  568.7012932300568\n",
      "RMSE:  0.9454468036461219\n",
      "Best Paramas:  {'n_factors': 10, 'n_epochs': 20, 'lr_all': 0.005, 'reg_all': 0.2}\n"
     ]
    },
    {
     "name": "stderr",
     "output_type": "stream",
     "text": [
      "[Parallel(n_jobs=-1)]: Done 1500 out of 1500 | elapsed:  9.5min finished\n"
     ]
    }
   ],
   "source": [
    "param_grid = {'n_factors': [10,25,75,100, 125], 'n_epochs': [5,10,20,30], \n",
    "              'lr_all': [0.005, 0.1, 0.01],'reg_all': [0,0.02,0.05,0.10,0.20]}\n",
    "gs3 = GridSearchCV(SVD, param_grid, measures=['rmse'], cv = 5, n_jobs = -1, joblib_verbose=5)\n",
    "start = time.time()\n",
    "\n",
    "gs3.fit(data)\n",
    "\n",
    "end = time.time()\n",
    "elapsed_seconds = (end-start)\n",
    "print(\"Elapsed time (in seconds): \", elapsed_seconds)\n",
    "\n",
    "print(\"RMSE: \" , gs3.best_score['rmse'])\n",
    "print(\"Best Paramas: \" , gs3.best_params['rmse'])"
   ]
  },
  {
   "cell_type": "code",
   "execution_count": 21,
   "id": "82eabc0e",
   "metadata": {},
   "outputs": [
    {
     "name": "stdout",
     "output_type": "stream",
     "text": [
      "Elapsed time (in seconds):  1.8769786357879639\n",
      "RMSE: 0.9394\n",
      "0.9394088055447738\n"
     ]
    }
   ],
   "source": [
    "svd3 = SVD(n_factors=10, n_epochs=20, lr_all=0.005, reg_all=0.2)\n",
    "\n",
    "start = time.time()\n",
    "\n",
    "svd3.fit(trainset)\n",
    "\n",
    "end = time.time()\n",
    "elapsed_seconds = (end-start)\n",
    "print(\"Elapsed time (in seconds): \", elapsed_seconds)\n",
    "\n",
    "predictions3 = svd3.test(testset)\n",
    "print(accuracy.rmse(predictions3))"
   ]
  },
  {
   "cell_type": "code",
   "execution_count": 24,
   "id": "9c5dc54e",
   "metadata": {},
   "outputs": [
    {
     "data": {
      "text/plain": [
       "Prediction(uid='11', iid='2166', r_ui=None, est=4.561234186612817, details={'was_impossible': False})"
      ]
     },
     "execution_count": 24,
     "metadata": {},
     "output_type": "execute_result"
    }
   ],
   "source": [
    "svd3.predict(uid = '11', iid = '2166')"
   ]
  }
 ],
 "metadata": {
  "kernelspec": {
   "display_name": "Python 3 (ipykernel)",
   "language": "python",
   "name": "python3"
  },
  "language_info": {
   "codemirror_mode": {
    "name": "ipython",
    "version": 3
   },
   "file_extension": ".py",
   "mimetype": "text/x-python",
   "name": "python",
   "nbconvert_exporter": "python",
   "pygments_lexer": "ipython3",
   "version": "3.9.7"
  }
 },
 "nbformat": 4,
 "nbformat_minor": 5
}
