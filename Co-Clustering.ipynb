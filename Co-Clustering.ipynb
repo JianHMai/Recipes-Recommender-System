{
 "cells": [
  {
   "cell_type": "code",
   "execution_count": 20,
   "id": "9e74f376",
   "metadata": {},
   "outputs": [],
   "source": [
    "import pandas as pd\n",
    "from surprise.model_selection import train_test_split, GridSearchCV, cross_validate\n",
    "from surprise import Reader, Dataset, CoClustering, accuracy\n",
    "import time"
   ]
  },
  {
   "cell_type": "markdown",
   "id": "125baa70",
   "metadata": {},
   "source": [
    "## Interactions 100% of Dataset"
   ]
  },
  {
   "cell_type": "code",
   "execution_count": 21,
   "id": "301fc664",
   "metadata": {},
   "outputs": [],
   "source": [
    "df = pd.read_csv(\"interactions_100.csv\")\n",
    "reader = Reader(rating_scale=(0,5))\n",
    "data = Dataset.load_from_df(df[['u', 'i', 'rating']], reader)\n",
    "trainset, testset = train_test_split(data, test_size=.25)"
   ]
  },
  {
   "cell_type": "code",
   "execution_count": 22,
   "id": "5614baea",
   "metadata": {},
   "outputs": [
    {
     "name": "stderr",
     "output_type": "stream",
     "text": [
      "[Parallel(n_jobs=-1)]: Using backend LokyBackend with 20 concurrent workers.\n",
      "[Parallel(n_jobs=-1)]: Done  32 tasks      | elapsed:   51.0s\n",
      "[Parallel(n_jobs=-1)]: Done 122 tasks      | elapsed:  3.2min\n",
      "[Parallel(n_jobs=-1)]: Done 248 tasks      | elapsed:  7.0min\n"
     ]
    },
    {
     "name": "stdout",
     "output_type": "stream",
     "text": [
      "Elapsed time (in seconds):  575.3800930976868\n",
      "RMSE:  1.0213632059804763\n",
      "Best Paramas:  {'n_cltr_u': 1, 'n_cltr_i': 1, 'n_epochs': 5}\n"
     ]
    },
    {
     "name": "stderr",
     "output_type": "stream",
     "text": [
      "[Parallel(n_jobs=-1)]: Done 320 out of 320 | elapsed:  9.5min finished\n"
     ]
    }
   ],
   "source": [
    "param_grid = {'n_cltr_u': [1,3,5,10], 'n_cltr_i': [1,3,5,10], 'n_epochs':[5,10,20,30]}\n",
    "gs = GridSearchCV(CoClustering, param_grid, measures=['rmse'], cv = 5, n_jobs = -1, joblib_verbose=5)\n",
    "start = time.time()\n",
    "\n",
    "gs.fit(data)\n",
    "\n",
    "end = time.time()\n",
    "elapsed_seconds = (end-start)\n",
    "print(\"Elapsed time (in seconds): \", elapsed_seconds)\n",
    "\n",
    "print(\"RMSE: \" , gs.best_score['rmse'])\n",
    "print(\"Best Paramas: \" , gs.best_params['rmse'])"
   ]
  },
  {
   "cell_type": "code",
   "execution_count": 23,
   "id": "978ffef2",
   "metadata": {},
   "outputs": [
    {
     "name": "stderr",
     "output_type": "stream",
     "text": [
      "C:\\Users\\Jian\\AppData\\Local\\Temp/ipykernel_5112/2120097472.py:5: DeprecationWarning: `np.int` is a deprecated alias for the builtin `int`. To silence this warning, use `int` by itself. Doing this will not modify any behavior and is safe. When replacing `np.int`, you may wish to use e.g. `np.int64` or `np.int32` to specify the precision. If you wish to review your current use, check the release note link for additional information.\n",
      "Deprecated in NumPy 1.20; for more details and guidance: https://numpy.org/devdocs/release/1.20.0-notes.html#deprecations\n",
      "  co.fit(trainset)\n"
     ]
    },
    {
     "name": "stdout",
     "output_type": "stream",
     "text": [
      "6.171355962753296\n",
      "Elapsed time (in seconds):  6.171355962753296\n",
      "RMSE: 1.0262\n",
      "1.026216029011226\n"
     ]
    }
   ],
   "source": [
    "co = CoClustering(n_cltr_u=1, n_cltr_i=1, n_epochs=5)\n",
    "\n",
    "start = time.time()\n",
    "\n",
    "co.fit(trainset)\n",
    "\n",
    "end = time.time()\n",
    "print(end-start)\n",
    "elapsed_seconds = (end-start)\n",
    "print(\"Elapsed time (in seconds): \", elapsed_seconds)\n",
    "\n",
    "predictions = co.test(testset)\n",
    "print(accuracy.rmse(predictions))"
   ]
  },
  {
   "cell_type": "code",
   "execution_count": 24,
   "id": "97aca5bf",
   "metadata": {},
   "outputs": [
    {
     "data": {
      "text/plain": [
       "Prediction(uid='11', iid='2166', r_ui=None, est=4.564042362059749, details={'was_impossible': False})"
      ]
     },
     "execution_count": 24,
     "metadata": {},
     "output_type": "execute_result"
    }
   ],
   "source": [
    "co.predict(uid = '11', iid = '2166')"
   ]
  },
  {
   "cell_type": "markdown",
   "id": "3c81153a",
   "metadata": {},
   "source": [
    "## Interactions 50% of Dataset"
   ]
  },
  {
   "cell_type": "code",
   "execution_count": 25,
   "id": "62c70fac",
   "metadata": {},
   "outputs": [],
   "source": [
    "df = pd.read_csv(\"interactions_50.csv\")\n",
    "reader = Reader(rating_scale=(0,5))\n",
    "data = Dataset.load_from_df(df[['u', 'i', 'rating']], reader)\n",
    "trainset, testset = train_test_split(data, test_size=.25)"
   ]
  },
  {
   "cell_type": "code",
   "execution_count": 26,
   "id": "0f5e7452",
   "metadata": {},
   "outputs": [
    {
     "name": "stderr",
     "output_type": "stream",
     "text": [
      "[Parallel(n_jobs=-1)]: Using backend LokyBackend with 20 concurrent workers.\n",
      "[Parallel(n_jobs=-1)]: Done  32 tasks      | elapsed:   32.3s\n",
      "[Parallel(n_jobs=-1)]: Done 122 tasks      | elapsed:  2.1min\n",
      "[Parallel(n_jobs=-1)]: Done 248 tasks      | elapsed:  4.5min\n"
     ]
    },
    {
     "name": "stdout",
     "output_type": "stream",
     "text": [
      "Elapsed time (in seconds):  360.99964690208435\n",
      "RMSE:  1.0524393381198474\n",
      "Best Paramas:  {'n_cltr_u': 5, 'n_cltr_i': 3, 'n_epochs': 5}\n"
     ]
    },
    {
     "name": "stderr",
     "output_type": "stream",
     "text": [
      "[Parallel(n_jobs=-1)]: Done 320 out of 320 | elapsed:  6.0min finished\n"
     ]
    }
   ],
   "source": [
    "param_grid = {'n_cltr_u': [1,3,5,10], 'n_cltr_i': [1,3,5,10], 'n_epochs':[5,10,20,30]}\n",
    "gs2 = GridSearchCV(CoClustering, param_grid, measures=['rmse'], cv = 5, n_jobs = -1, joblib_verbose=5)\n",
    "start = time.time()\n",
    "\n",
    "gs2.fit(data)\n",
    "\n",
    "end = time.time()\n",
    "elapsed_seconds = (end-start)\n",
    "print(\"Elapsed time (in seconds): \", elapsed_seconds)\n",
    "\n",
    "print(\"RMSE: \" , gs2.best_score['rmse'])\n",
    "print(\"Best Paramas: \" , gs2.best_params['rmse'])"
   ]
  },
  {
   "cell_type": "code",
   "execution_count": 28,
   "id": "480a450a",
   "metadata": {},
   "outputs": [
    {
     "name": "stderr",
     "output_type": "stream",
     "text": [
      "C:\\Users\\Jian\\AppData\\Local\\Temp/ipykernel_5112/1602200324.py:5: DeprecationWarning: `np.int` is a deprecated alias for the builtin `int`. To silence this warning, use `int` by itself. Doing this will not modify any behavior and is safe. When replacing `np.int`, you may wish to use e.g. `np.int64` or `np.int32` to specify the precision. If you wish to review your current use, check the release note link for additional information.\n",
      "Deprecated in NumPy 1.20; for more details and guidance: https://numpy.org/devdocs/release/1.20.0-notes.html#deprecations\n",
      "  co2.fit(trainset)\n"
     ]
    },
    {
     "name": "stdout",
     "output_type": "stream",
     "text": [
      "Elapsed time (in seconds):  4.507817983627319\n",
      "RMSE: 1.0618\n",
      "1.0617637772824633\n"
     ]
    }
   ],
   "source": [
    "co2 = CoClustering(n_cltr_u=5, n_cltr_i=3, n_epochs=5)\n",
    "\n",
    "start = time.time()\n",
    "\n",
    "co2.fit(trainset)\n",
    "\n",
    "end = time.time()\n",
    "elapsed_seconds = (end-start)\n",
    "print(\"Elapsed time (in seconds): \", elapsed_seconds)\n",
    "\n",
    "predictions2 = co2.test(testset)\n",
    "print(accuracy.rmse(predictions2))"
   ]
  },
  {
   "cell_type": "code",
   "execution_count": 29,
   "id": "ba01da77",
   "metadata": {},
   "outputs": [
    {
     "data": {
      "text/plain": [
       "Prediction(uid='11', iid='2166', r_ui=None, est=4.566245471283483, details={'was_impossible': False})"
      ]
     },
     "execution_count": 29,
     "metadata": {},
     "output_type": "execute_result"
    }
   ],
   "source": [
    "co2.predict(uid = '11', iid = '2166')"
   ]
  },
  {
   "cell_type": "markdown",
   "id": "383d139f",
   "metadata": {},
   "source": [
    "## Interactions 25% of Dataset"
   ]
  },
  {
   "cell_type": "code",
   "execution_count": 30,
   "id": "896278ad",
   "metadata": {},
   "outputs": [],
   "source": [
    "df = pd.read_csv(\"interactions_25.csv\")\n",
    "reader = Reader(rating_scale=(0,5))\n",
    "data = Dataset.load_from_df(df[['u', 'i', 'rating']], reader)\n",
    "trainset, testset = train_test_split(data, test_size=.25)"
   ]
  },
  {
   "cell_type": "code",
   "execution_count": 31,
   "id": "90bf25e7",
   "metadata": {},
   "outputs": [
    {
     "name": "stderr",
     "output_type": "stream",
     "text": [
      "[Parallel(n_jobs=-1)]: Using backend LokyBackend with 20 concurrent workers.\n",
      "[Parallel(n_jobs=-1)]: Done  32 tasks      | elapsed:   19.5s\n",
      "[Parallel(n_jobs=-1)]: Done 122 tasks      | elapsed:  1.3min\n",
      "[Parallel(n_jobs=-1)]: Done 248 tasks      | elapsed:  2.7min\n"
     ]
    },
    {
     "name": "stdout",
     "output_type": "stream",
     "text": [
      "Elapsed time (in seconds):  219.7318024635315\n",
      "RMSE:  1.0765857418894385\n",
      "Best Paramas:  {'n_cltr_u': 3, 'n_cltr_i': 5, 'n_epochs': 10}\n"
     ]
    },
    {
     "name": "stderr",
     "output_type": "stream",
     "text": [
      "[Parallel(n_jobs=-1)]: Done 320 out of 320 | elapsed:  3.6min finished\n"
     ]
    }
   ],
   "source": [
    "param_grid = {'n_cltr_u': [1,3,5,10], 'n_cltr_i': [1,3,5,10], 'n_epochs':[5,10,20,30]}\n",
    "gs3 = GridSearchCV(CoClustering, param_grid, measures=['rmse'], cv = 5, n_jobs = -1, joblib_verbose=5)\n",
    "start = time.time()\n",
    "\n",
    "gs3.fit(data)\n",
    "\n",
    "end = time.time()\n",
    "elapsed_seconds = (end-start)\n",
    "print(\"Elapsed time (in seconds): \", elapsed_seconds)\n",
    "\n",
    "print(\"RMSE: \" , gs3.best_score['rmse'])\n",
    "print(\"Best Paramas: \" , gs3.best_params['rmse'])"
   ]
  },
  {
   "cell_type": "code",
   "execution_count": 32,
   "id": "bc81ba05",
   "metadata": {},
   "outputs": [
    {
     "name": "stderr",
     "output_type": "stream",
     "text": [
      "C:\\Users\\Jian\\AppData\\Local\\Temp/ipykernel_5112/46152464.py:5: DeprecationWarning: `np.int` is a deprecated alias for the builtin `int`. To silence this warning, use `int` by itself. Doing this will not modify any behavior and is safe. When replacing `np.int`, you may wish to use e.g. `np.int64` or `np.int32` to specify the precision. If you wish to review your current use, check the release note link for additional information.\n",
      "Deprecated in NumPy 1.20; for more details and guidance: https://numpy.org/devdocs/release/1.20.0-notes.html#deprecations\n",
      "  co3.fit(trainset)\n"
     ]
    },
    {
     "name": "stdout",
     "output_type": "stream",
     "text": [
      "Elapsed time (in seconds):  4.735616207122803\n",
      "RMSE: 1.0800\n",
      "1.079998499370296\n"
     ]
    }
   ],
   "source": [
    "co3 = CoClustering(n_cltr_u=3, n_cltr_i=5, n_epochs=10)\n",
    "\n",
    "start = time.time()\n",
    "\n",
    "co3.fit(trainset)\n",
    "\n",
    "end = time.time()\n",
    "elapsed_seconds = (end-start)\n",
    "print(\"Elapsed time (in seconds): \", elapsed_seconds)\n",
    "\n",
    "predictions3 = co3.test(testset)\n",
    "print(accuracy.rmse(predictions3))"
   ]
  },
  {
   "cell_type": "code",
   "execution_count": 33,
   "id": "0a4d5930",
   "metadata": {},
   "outputs": [
    {
     "data": {
      "text/plain": [
       "Prediction(uid='11', iid='2166', r_ui=None, est=4.562956583714438, details={'was_impossible': False})"
      ]
     },
     "execution_count": 33,
     "metadata": {},
     "output_type": "execute_result"
    }
   ],
   "source": [
    "co3.predict(uid = '11', iid = '2166')"
   ]
  }
 ],
 "metadata": {
  "kernelspec": {
   "display_name": "Python 3 (ipykernel)",
   "language": "python",
   "name": "python3"
  },
  "language_info": {
   "codemirror_mode": {
    "name": "ipython",
    "version": 3
   },
   "file_extension": ".py",
   "mimetype": "text/x-python",
   "name": "python",
   "nbconvert_exporter": "python",
   "pygments_lexer": "ipython3",
   "version": "3.9.7"
  }
 },
 "nbformat": 4,
 "nbformat_minor": 5
}
